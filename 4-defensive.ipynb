{
 "cells": [
  {
   "cell_type": "markdown",
   "metadata": {
    "cell_tags": []
   },
   "source": [
    "## Defensive programming"
   ]
  },
  {
   "cell_type": "markdown",
   "metadata": {},
   "source": [
    "The first step toward getting the right answers from our programs is to assume that mistakes will happen and to guard against them. This is called defensive programming, and the most common way to do it is to add assertions to our code so that it checks itself as it runs. An assertion is simply a statement that something must be true at a certain point in a program. When Python sees one, it checks that the assertion's condition. If it's true, Python does nothing, but if it's false, Python halts the program immediately and prints the error message provided. For example, this piece of code halts as soon as the loop encounters a value that isn't positive:\n",
    "\n"
   ]
  },
  {
   "cell_type": "code",
   "execution_count": null,
   "metadata": {
    "collapsed": false
   },
   "outputs": [],
   "source": [
    "x = 10"
   ]
  },
  {
   "cell_type": "code",
   "execution_count": null,
   "metadata": {
    "collapsed": false
   },
   "outputs": [],
   "source": [
    "assert x > 0, \"x should never be negative!\""
   ]
  },
  {
   "cell_type": "code",
   "execution_count": null,
   "metadata": {
    "collapsed": false
   },
   "outputs": [],
   "source": [
    "x = -10"
   ]
  },
  {
   "cell_type": "code",
   "execution_count": null,
   "metadata": {
    "collapsed": false
   },
   "outputs": [],
   "source": [
    "assert x > 0, \"x should never be negative!\""
   ]
  },
  {
   "cell_type": "markdown",
   "metadata": {},
   "source": [
    "#### Challenge\n",
    "\n",
    "Add an assert to the `analyze` function to check that the temperature in celsius is more than -50 and that rainfall is positive"
   ]
  },
  {
   "cell_type": "markdown",
   "metadata": {},
   "source": [
    "Open the challenge notebook at http://nbviewer.ipython.org/github/zonca/challenges/blob/master/challenge-notebook-4.ipynb, the solution is below"
   ]
  },
  {
   "cell_type": "code",
   "execution_count": null,
   "metadata": {
    "collapsed": false
   },
   "outputs": [],
   "source": [
    "import pandas as pd\n",
    "import statsmodels.api as sm\n",
    "import matplotlib.pyplot as plt\n",
    "\n",
    "def fahr_to_celsius(temp_fahr):\n",
    "    \"\"\"Convert temperature from Fahrenheit to Celsius\"\"\"\n",
    "    temp_celsius = (temp_fahr - 32) * 5 / 9.0\n",
    "    return temp_celsius\n",
    "\n",
    "def analyze(data):\n",
    "    \"\"\"Perform regression analysis on mosquito data\n",
    "   \n",
    "    Performs a linear regression based on rainfall and temperature.\n",
    "    Creates two plots of the results and returns fit parameters.\n",
    "    \n",
    "    Parameters\n",
    "    ----------\n",
    "    data : pandas.Dataframe\n",
    "        Column named 'temperature', 'rainfall' and 'mosquitos'.\n",
    "            \n",
    "    Returns\n",
    "    -------\n",
    "    parameters : list of pandas.Series\n",
    "        Return a list of the fitting parameters for rainfall and temperature\n",
    "    \n",
    "    \"\"\"\n",
    "    data['temperature'] = fahr_to_celsius(data['temperature'])\n",
    "    assert data['temperature'].min() > -50\n",
    "    assert data['rainfall'].min() > 0\n",
    "    output = []\n",
    "    for variable in ['rainfall', 'temperature']:\n",
    "        # linear fit\n",
    "        regr_results = sm.OLS.from_formula('mosquitos ~ ' + variable, data).fit()\n",
    "        parameters = regr_results.params\n",
    "        line_fit = parameters['Intercept'] + parameters[variable] * data[variable]\n",
    "        # plotting\n",
    "        plt.figure()\n",
    "        plt.plot(data[variable], data['mosquitos'], '.', label=\"data\")\n",
    "        plt.plot(data[variable], line_fit, 'red', label=\"fit\")\n",
    "        plt.xlabel(variable)\n",
    "        plt.ylabel('mosquitos')\n",
    "        plt.legend(loc='best')\n",
    "        output.append(parameters)\n",
    "    return output"
   ]
  },
  {
   "cell_type": "code",
   "execution_count": null,
   "metadata": {
    "collapsed": false
   },
   "outputs": [],
   "source": [
    "%matplotlib inline"
   ]
  },
  {
   "cell_type": "code",
   "execution_count": null,
   "metadata": {
    "collapsed": false
   },
   "outputs": [],
   "source": [
    "analyze(pd.read_csv('A2_mosquito_data.csv'))"
   ]
  }
 ],
 "metadata": {
  "kernelspec": {
   "display_name": "Python 3",
   "language": "python",
   "name": "python3"
  },
  "language_info": {
   "codemirror_mode": {
    "name": "ipython",
    "version": 3
   },
   "file_extension": ".py",
   "mimetype": "text/x-python",
   "name": "python",
   "nbconvert_exporter": "python",
   "pygments_lexer": "ipython3",
   "version": "3.6.5"
  }
 },
 "nbformat": 4,
 "nbformat_minor": 2
}
