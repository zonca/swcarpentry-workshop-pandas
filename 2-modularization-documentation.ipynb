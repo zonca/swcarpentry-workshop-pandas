{
 "cells": [
  {
   "cell_type": "markdown",
   "metadata": {},
   "source": [
    "# Modularization and Documentation"
   ]
  },
  {
   "cell_type": "markdown",
   "metadata": {},
   "source": [
    "Now that we've covered some of the basic syntax and libraries in Python we can start to tackle our data analysis problem.\n",
    "We are interested in understanding the relationship between the weather and the number of mosquitos so that we can plan mosquito control measures.\n",
    "Since we want to apply these mosquito control measures at a number of different sites we need to understand how the relationship varies across sites.\n",
    "Remember that we have a series of CSV files with each file containing the data for a single location."
   ]
  },
  {
   "cell_type": "markdown",
   "metadata": {},
   "source": [
    "## Objectives"
   ]
  },
  {
   "cell_type": "markdown",
   "metadata": {},
   "source": [
    "* Write code for people, not computers\n",
    "* Break a program into chunks\n",
    "* Write and use functions in Python\n",
    "* Write useful documentation"
   ]
  },
  {
   "cell_type": "markdown",
   "metadata": {},
   "source": [
    "## Starting small"
   ]
  },
  {
   "cell_type": "markdown",
   "metadata": {},
   "source": [
    "When approaching computational tasks like this one it is typically best to start small,\n",
    "check each piece of code as you go,\n",
    "and make incremental changes.\n",
    "This helps avoid marathon debugging sessions\n",
    "because it's much easier to debug one small piece of the code at a time than to write 100 lines of code and\n",
    "then try to figure out all of the different bugs in it.\n",
    "\n",
    "Let's start by reading in the data from a single file and conducting a simple regression analysis on it.\n",
    "In fact, I would actually start by just importing the data and making sure that everything is coming in OK."
   ]
  },
  {
   "cell_type": "code",
   "execution_count": null,
   "metadata": {
    "collapsed": false
   },
   "outputs": [],
   "source": [
    "import pandas as pd\n",
    "\n",
    "d = pd.read_csv('A2_mosquito_data.csv')\n",
    "print(d)"
   ]
  },
  {
   "cell_type": "markdown",
   "metadata": {},
   "source": [
    "The import seems to be working properly, so that's good news,\n",
    "but does anyone have anyone see anything about the code that they don't like?\n",
    "\n",
    "That's right.\n",
    "The variable name I've chosen for the data doesn't really communicate any information to anyone about what it's holding,\n",
    "which means that when I come back to my code next month to change something I'm going to have a more difficult time understanding what the code is actually doing.\n",
    "This brings us to one of our first major lessons for the morning,\n",
    "which is that in order to understand what our code is doing so that we can quickly make changes in the future,\n",
    "we need to *write code for people, not computers*,\n",
    "and an important first step is to *use meaningful varible names*."
   ]
  },
  {
   "cell_type": "code",
   "execution_count": null,
   "metadata": {
    "collapsed": false
   },
   "outputs": [],
   "source": [
    "import pandas as pd\n",
    "\n",
    "data = pd.read_csv('A2_mosquito_data.csv', index_col='year')\n",
    "print(data.head())"
   ]
  },
  {
   "cell_type": "markdown",
   "metadata": {},
   "source": [
    "The `.head()` method lets us just look at the first few rows of the data.\n",
    "A method is a function attached to an object that operates on that object.\n",
    "So in this case we can think of it as being equivalent to `head(data)`.\n",
    "\n",
    "Everything looks good,\n",
    "but either global warming has gotten *really* out of control or the temperatures are in degrees Fahrenheit.\n",
    "Let's convert them to Celcius before we get started.\n",
    "\n",
    "We don't need to reimport the data in our new cell because all of the executed cells in IPython Notebook share the same workspace.\n",
    "However, it's worth noting that if we close the notebook and then open it again it is necessary to rerun all of the individual blocks of code that a code block relies on before continuing.\n",
    "To rerun all of the cells in a notebook you can select `Cell -> Run All` from the menu."
   ]
  },
  {
   "cell_type": "code",
   "execution_count": null,
   "metadata": {
    "collapsed": false
   },
   "outputs": [],
   "source": [
    "data['temperature'] = (data['temperature'] - 32) * 5 / 9.0\n",
    "print(data.head())"
   ]
  },
  {
   "cell_type": "markdown",
   "metadata": {},
   "source": [
    "That's better.\n",
    "Now let's go ahead and conduct a regression on the data.\n",
    "We'll use the `statsmodels` library to conduct the regression."
   ]
  },
  {
   "cell_type": "code",
   "execution_count": null,
   "metadata": {
    "collapsed": false
   },
   "outputs": [],
   "source": [
    "import statsmodels.api as sm\n",
    "\n",
    "regr_results = sm.OLS.from_formula('mosquitos ~ temperature', data).fit()\n",
    "regr_results.summary()"
   ]
  },
  {
   "cell_type": "markdown",
   "metadata": {},
   "source": [
    "As you can see `statsmodels` lets us use the names of the columns in our dataframe\n",
    "to clearly specify the form of the statistical model we want to fit.\n",
    "This also makes the code more readable since the model we are fitting is written in a nice,\n",
    "human readable, manner.\n",
    "The `summary` method gives us a visual representation of the results.\n",
    "This summary is nice to look at, but it isn't really useful for doing more computation,\n",
    "so we can look up particular values related to the regression using the `regr_results` attributes.\n",
    "These are variables that are attached to `regr_results`."
   ]
  },
  {
   "cell_type": "code",
   "execution_count": null,
   "metadata": {
    "collapsed": false
   },
   "outputs": [],
   "source": [
    "print(regr_results.params)\n",
    "print(regr_results.rsquared)"
   ]
  },
  {
   "cell_type": "markdown",
   "metadata": {},
   "source": [
    "If we want to hold onto these values for later we can assign them to variables:"
   ]
  },
  {
   "cell_type": "code",
   "execution_count": null,
   "metadata": {
    "collapsed": false
   },
   "outputs": [],
   "source": [
    "parameters = regr_results.params\n",
    "rsquared = regr_results.rsquared"
   ]
  },
  {
   "cell_type": "markdown",
   "metadata": {},
   "source": [
    "And then we can plot the observed data against the values predicted by our regression to visualize the results.\n",
    "First, remember to tell the notebook that we want our plots to appear in the notebook itself."
   ]
  },
  {
   "cell_type": "code",
   "execution_count": null,
   "metadata": {
    "collapsed": false
   },
   "outputs": [],
   "source": [
    "%matplotlib inline"
   ]
  },
  {
   "cell_type": "code",
   "execution_count": null,
   "metadata": {
    "collapsed": false
   },
   "outputs": [],
   "source": [
    "import matplotlib.pyplot as plt\n",
    "\n",
    "line_fit = parameters['Intercept'] + parameters['temperature'] * data['temperature']\n",
    "plt.plot(data['temperature'], data['mosquitos'], '.', label=\"data\")\n",
    "plt.plot(data['temperature'], line_fit, 'red', label=\"fit\")\n",
    "plt.xlabel('temperature')\n",
    "plt.ylabel('mosquitos')\n",
    "plt.legend()"
   ]
  },
  {
   "cell_type": "markdown",
   "metadata": {},
   "source": [
    "### Challenge"
   ]
  },
  {
   "cell_type": "markdown",
   "metadata": {},
   "source": [
    "Repeat the fit and the plotting using `rainfall` instead, does it get better?"
   ]
  },
  {
   "cell_type": "markdown",
   "metadata": {},
   "source": [
    "OK, great.\n",
    "So putting this all together we now have a piece of code that imports the modules we need,\n",
    "loads the data into memory, fits a regression to the data,\n",
    "and prints the parameters and plots data and fit."
   ]
  },
  {
   "cell_type": "code",
   "execution_count": null,
   "metadata": {
    "collapsed": false
   },
   "outputs": [],
   "source": [
    "import pandas as pd\n",
    "import statsmodels.api as sm\n",
    "import matplotlib.pyplot as plt\n",
    "\n",
    "data = pd.read_csv('A2_mosquito_data.csv')\n",
    "data['temperature'] = (data['temperature'] - 32) * 5 / 9.0\n",
    "regr_results = sm.OLS.from_formula('mosquitos ~ rainfall', data).fit()\n",
    "parameters = regr_results.params\n",
    "rsquared = regr_results.rsquared\n",
    "line_fit = parameters['Intercept'] + parameters['rainfall'] * data['rainfall']\n",
    "plt.plot(data['rainfall'], data['mosquitos'], '.', label=\"data\")\n",
    "plt.plot(data['rainfall'], line_fit, 'red', label=\"fit\")\n",
    "plt.xlabel('rainfall')\n",
    "plt.ylabel('mosquitos')\n",
    "plt.legend(loc='best')\n",
    "print(parameters)\n",
    "print(\"R^2 = \", rsquared)"
   ]
  },
  {
   "cell_type": "markdown",
   "metadata": {},
   "source": [
    "## Functions"
   ]
  },
  {
   "cell_type": "markdown",
   "metadata": {},
   "source": [
    "The next thing we need to do is loop over all of the possible data files,\n",
    "but in order to do that we're going to need to grow our code some more.\n",
    "Since our brain can only easily hold 5-7 pieces of information at once,\n",
    "and our code already has more than that many pieces,\n",
    "we need to start breaking our code into manageable sized chunks.\n",
    "This will let us read and understand the code more easily and make it easier to reuse pieces of our code.\n",
    "We'll do this using functions.\n",
    "\n",
    "Functions in Python take the general form\n",
    "\n",
    "~~~python\n",
    "def function_name(inputs):\n",
    "    do stuff\n",
    "    return output\n",
    "~~~\n",
    "\n",
    "So, if we want to write a function that returns the value of a number squared we could use:"
   ]
  },
  {
   "cell_type": "code",
   "execution_count": null,
   "metadata": {
    "collapsed": false
   },
   "outputs": [],
   "source": [
    "def square(x):\n",
    "    x_squared = x ** 2\n",
    "    return x_squared\n",
    "\n",
    "print(\"Four squared is\", square(4))\n",
    "print(\"Five squared is\", square(5))"
   ]
  },
  {
   "cell_type": "markdown",
   "metadata": {},
   "source": [
    "We can also just return the desired value directly."
   ]
  },
  {
   "cell_type": "code",
   "execution_count": null,
   "metadata": {
    "collapsed": false
   },
   "outputs": [],
   "source": [
    "def square(x):\n",
    "    return x ** 2\n",
    "\n",
    "print(square(3))"
   ]
  },
  {
   "cell_type": "markdown",
   "metadata": {},
   "source": [
    "And remember, if we want to use the result of the function later we need to store it somewhere."
   ]
  },
  {
   "cell_type": "code",
   "execution_count": null,
   "metadata": {
    "collapsed": false
   },
   "outputs": [],
   "source": [
    "two_squared = square(2)\n",
    "print(two_squared)"
   ]
  },
  {
   "cell_type": "markdown",
   "metadata": {},
   "source": [
    "### Challenges"
   ]
  },
  {
   "cell_type": "markdown",
   "metadata": {},
   "source": [
    "1\\. Write a function that converts temperature from Fahrenheit to Celsius and use it to replace\n",
    "\n",
    "~~~python\n",
    "data['temperature'] = (data['temperature'] - 32) * 5 / 9.0\n",
    "~~~\n",
    "\n",
    "in our program.\n",
    "\n",
    "2\\. Write a function called `analyze()` that takes `data` as an input, performs the regression, makes the plot, and returns `parameters`."
   ]
  },
  {
   "cell_type": "code",
   "execution_count": null,
   "metadata": {
    "collapsed": false
   },
   "outputs": [],
   "source": [
    "import pandas as pd\n",
    "import statsmodels.api as sm\n",
    "import matplotlib.pyplot as plt\n",
    "\n",
    "def fahr_to_celsius(temp_fahr):\n",
    "    temp_celsius = (temp_fahr - 32) * 5 / 9.0\n",
    "    return temp_celsius\n",
    "\n",
    "def analyze(data):\n",
    "    data['temperature'] = (data['temperature'] - 32) * 5 / 9.0\n",
    "    regr_results = sm.OLS.from_formula('mosquitos ~ rainfall', data).fit()\n",
    "    parameters = regr_results.params\n",
    "    rsquared = regr_results.rsquared\n",
    "    line_fit = parameters['Intercept'] + parameters['rainfall'] * data['rainfall']\n",
    "    plt.plot(data['rainfall'], data['mosquitos'], '.', label=\"data\")\n",
    "    plt.plot(data['rainfall'], line_fit, 'red', label=\"fit\")\n",
    "    plt.xlabel('rainfall')\n",
    "    plt.ylabel('mosquitos')\n",
    "    plt.legend(loc='best')\n",
    "    return parameters"
   ]
  },
  {
   "cell_type": "code",
   "execution_count": null,
   "metadata": {
    "collapsed": false
   },
   "outputs": [],
   "source": [
    "data_A2 = pd.read_csv('A2_mosquito_data.csv')\n",
    "parameters_A2 = analyze(data)\n",
    "print(parameters_A2)"
   ]
  },
  {
   "cell_type": "markdown",
   "metadata": {},
   "source": [
    "## The call stack"
   ]
  },
  {
   "cell_type": "markdown",
   "metadata": {},
   "source": [
    "Let's take a closer look at what happens when we call fahr_to_celsius(32.0). To make things clearer, we'll start by putting the initial value 32.0 in a variable and store the final result in one as well:"
   ]
  },
  {
   "cell_type": "code",
   "execution_count": null,
   "metadata": {
    "collapsed": false
   },
   "outputs": [],
   "source": [
    "def fahr_to_celsius(temp_fahr):\n",
    "    temp_celsius = (temp_fahr - 32) * 5 / 9.0\n",
    "    return temp_celsius\n",
    "\n",
    "original = 32.0\n",
    "final = fahr_to_celsius(original)"
   ]
  },
  {
   "cell_type": "markdown",
   "metadata": {},
   "source": [
    "#### Call Stack (Initial State)\n",
    "\n",
    "When the first three lines of this function are executed the function is created,\n",
    "but nothing happens.\n",
    "The function is like a recipe,\n",
    "it contains the information about how to do something,\n",
    "but it doesn't do so until you explicitly ask it to.\n",
    "We then create the variable `original` and assign the value 32.0 to it.\n",
    "The values `tempF` and `tempC` don't currently exist. \n",
    "\n",
    "#### Call Stack Immediately After Function Call\n",
    "\n",
    "When we call `fahr_to_celsius`,\n",
    "Python creates another stack frame to hold fahr_to_celsius's variables.\n",
    "Upon creation this stack frame only includes the inputs being passed to the function,\n",
    "so in our case `tempF`.\n",
    "As the function is executed variables created by the function are stored in the functions stack frame,\n",
    "so `tempC` is created in the `fahr_to_celsius` stack frame.\n",
    "\n",
    "#### Call Stack At End Of Function Call\n",
    "\n",
    "When the call to `fahr_to_celsius` returns a value,\n",
    "Python throws away `fahr_to_celsius`'s stack frame,\n",
    "including all of the variables it contains,\n",
    "and creates a new variable\n",
    "in the original stack frame to hold the temperature in Celsius.\n",
    "\n",
    "#### Call Stack After End\n",
    "\n",
    "This final stack frame is always there;\n",
    "it holds the variables we defined outside the functions in our code.\n",
    "What it doesn't hold is the variables that were in the other stack frames.\n",
    "If we try to get the value of `tempF` or `tempC` after our functions have finished running,\n",
    "Python tells us that there's no such thing:\n"
   ]
  },
  {
   "cell_type": "code",
   "execution_count": null,
   "metadata": {
    "collapsed": false
   },
   "outputs": [],
   "source": [
    "# print(temp_celsius)"
   ]
  },
  {
   "cell_type": "markdown",
   "metadata": {},
   "source": [
    "The reason for this is encapsulation,\n",
    "and it's one of the key to writing correct, comprehensible programs.\n",
    "A function's job is to turn several operations into one so that we can think about\n",
    "a single function call instead of a dozen or a hundred statements each time we want to do something.\n",
    "That only works if functions don't interfere with each other by potentially changing the same variables;\n",
    "if they do, we have to pay attention to the details once again,\n",
    "which quickly overloads our short-term memory."
   ]
  },
  {
   "cell_type": "markdown",
   "metadata": {},
   "source": [
    "### Challenge"
   ]
  },
  {
   "cell_type": "markdown",
   "metadata": {},
   "source": [
    "what about `temp_fahr`, it appears in the function call, is that defined?"
   ]
  },
  {
   "cell_type": "markdown",
   "metadata": {},
   "source": [
    "## Documentation"
   ]
  },
  {
   "cell_type": "markdown",
   "metadata": {},
   "source": [
    "We should write some [documentation](../../gloss.html#documentation)\n",
    "to remind ourselves later what it's for and how to use it.\n",
    "This function may be fairly straightforward,\n",
    "but in most cases it won't be so easy to remember exactly what a function is doing in a few months.\n",
    "Just imagine looking at our `analyze` function a few months in the future\n",
    "and trying to remember exactly what it was doing just based on the code.\n",
    "\n",
    "The usual way to put documentation in code is to add [comments](../../gloss.html#comment) like this:"
   ]
  },
  {
   "cell_type": "code",
   "execution_count": null,
   "metadata": {
    "collapsed": false
   },
   "outputs": [],
   "source": [
    "import pandas as pd\n",
    "import statsmodels.api as sm\n",
    "import matplotlib.pyplot as plt\n",
    "\n",
    "def fahr_to_celsius(temp_fahr):\n",
    "    temp_celsius = (temp_fahr - 32) * 5 / 9.0\n",
    "    return temp_celsius\n",
    "\n",
    "def analyze(data):\n",
    "    data['temperature'] = fahr_to_celsius(data['temperature'])\n",
    "    # linear fit\n",
    "    regr_results = sm.OLS.from_formula('mosquitos ~ rainfall', data).fit()\n",
    "    parameters = regr_results.params\n",
    "    line_fit = parameters['Intercept'] + parameters['rainfall'] * data['rainfall']\n",
    "    # plotting\n",
    "    plt.plot(data['rainfall'], data['mosquitos'], '.', label=\"data\")\n",
    "    plt.plot(data['rainfall'], line_fit, 'red', label=\"fit\")\n",
    "    plt.xlabel('rainfall')\n",
    "    plt.ylabel('mosquitos')\n",
    "    plt.legend(loc='best')\n",
    "    return parameters"
   ]
  },
  {
   "cell_type": "markdown",
   "metadata": {
    "cell_tags": []
   },
   "source": [
    "There's a better way to do this in Python.\n",
    "If the first thing in a function is a string that isn't assigned to a variable,\n",
    "that string is attached to the function as its documentation:"
   ]
  },
  {
   "cell_type": "code",
   "execution_count": null,
   "metadata": {
    "collapsed": false
   },
   "outputs": [],
   "source": [
    "def fahr_to_celsius(temp_fahr):\n",
    "    \"\"\"Convert temperature from Fahrenheit to Celsius\"\"\"\n",
    "    temp_celsius = (temp_fahr - 32) * 5 / 9.0\n",
    "    return temp_celsius"
   ]
  },
  {
   "cell_type": "markdown",
   "metadata": {},
   "source": [
    "### Challenge"
   ]
  },
  {
   "cell_type": "markdown",
   "metadata": {},
   "source": [
    "Write docstring for the `analyze` function, remember to be specific on the type of the input, its expected properties, what is performed by the function and what is returned"
   ]
  },
  {
   "cell_type": "code",
   "execution_count": null,
   "metadata": {
    "collapsed": false
   },
   "outputs": [],
   "source": [
    "import pandas as pd\n",
    "import statsmodels.api as sm\n",
    "import matplotlib.pyplot as plt\n",
    "\n",
    "def fahr_to_celsius(temp_fahr):\n",
    "    \"\"\"Convert temperature from Fahrenheit to Celsius\"\"\"\n",
    "    temp_celsius = (temp_fahr - 32) * 5 / 9.0\n",
    "    return temp_celsius\n",
    "\n",
    "def analyze(data):\n",
    "    \"\"\"Perform regression analysis on mosquito data\n",
    "   \n",
    "    Performs a linear regression based on rainfall.\n",
    "    Creates a plot of the result and returns fit parameters.\n",
    "    \n",
    "    Parameters\n",
    "    ----------\n",
    "    data : pandas.Dataframe\n",
    "        Column named 'temperature', 'rainfall' and 'mosquitos'.\n",
    "            \n",
    "    Returns\n",
    "    -------\n",
    "    parameters : pandas.Series\n",
    "        Fit parameters named Intercept and rainfall\n",
    "    \n",
    "    \"\"\"\n",
    "    data['temperature'] = fahr_to_celsius(data['temperature'])\n",
    "    # linear fit\n",
    "    regr_results = sm.OLS.from_formula('mosquitos ~ rainfall', data).fit()\n",
    "    parameters = regr_results.params\n",
    "    line_fit = parameters['Intercept'] + parameters['rainfall'] * data['rainfall']\n",
    "    # plotting\n",
    "    plt.plot(data['rainfall'], data['mosquitos'], '.', label=\"data\")\n",
    "    plt.plot(data['rainfall'], line_fit, 'red', label=\"fit\")\n",
    "    plt.xlabel('rainfall')\n",
    "    plt.ylabel('mosquitos')\n",
    "    plt.legend(loc='best')\n",
    "    return parameters"
   ]
  },
  {
   "cell_type": "markdown",
   "metadata": {
    "cell_tags": []
   },
   "source": [
    "This is better because we can now ask Python's built-in help system to show us the documentation for the function."
   ]
  },
  {
   "cell_type": "code",
   "execution_count": null,
   "metadata": {
    "cell_tags": [],
    "collapsed": false
   },
   "outputs": [],
   "source": [
    "help(analyze)"
   ]
  },
  {
   "cell_type": "markdown",
   "metadata": {
    "cell_tags": []
   },
   "source": [
    "A string like this is called a [docstring](../../gloss.html#docstring)\n",
    "and there are also automatic documentation generators that use these docstrings to produce documentation for users.\n",
    "We use triple quotes because\n",
    "it allows us to include multiple lines of text and because it is considered good Python style."
   ]
  },
  {
   "cell_type": "code",
   "execution_count": null,
   "metadata": {},
   "outputs": [],
   "source": []
  }
 ],
 "metadata": {
  "kernelspec": {
   "display_name": "Python 3",
   "language": "python",
   "name": "python3"
  },
  "language_info": {
   "codemirror_mode": {
    "name": "ipython",
    "version": 3
   },
   "file_extension": ".py",
   "mimetype": "text/x-python",
   "name": "python",
   "nbconvert_exporter": "python",
   "pygments_lexer": "ipython3",
   "version": "3.6.5"
  }
 },
 "nbformat": 4,
 "nbformat_minor": 2
}
